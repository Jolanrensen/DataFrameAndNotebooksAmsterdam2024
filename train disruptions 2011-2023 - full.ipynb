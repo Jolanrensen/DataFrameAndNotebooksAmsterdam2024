{
 "cells": [
  {
   "metadata": {},
   "cell_type": "markdown",
   "source": [
    "## Do I have the right to complain about Dutch trains in a demo?\n",
    "As a student, I had to take the train from Breda to Eindhoven and back multiple times a week.\n",
    "I did experience a lot of delays, but can we visualize this?\n",
    "\n",
    "I collected all data from 2011-2023 from rijdendetreinen.nl into an SQLite database which we can also access from DataFrame!"
   ]
  },
  {
   "cell_type": "code",
   "metadata": {
    "collapsed": true
   },
   "source": [
    "// Adding support for the sqlite jdbc driver before importing DataFrame\n",
    "USE { dependencies(\"org.xerial:sqlite-jdbc:3.45.1.0\") }"
   ],
   "outputs": [],
   "execution_count": null
  },
  {
   "metadata": {},
   "cell_type": "code",
   "source": "%use dataframe, kandy",
   "outputs": [],
   "execution_count": null
  },
  {
   "metadata": {},
   "cell_type": "markdown",
   "source": "Making a connection to the database and then reading the right table."
  },
  {
   "metadata": {},
   "cell_type": "code",
   "source": [
    "val connection = DatabaseConfiguration(\n",
    "    url = \"jdbc:sqlite:data/disruptions/disruptions-history.sqlite\",\n",
    ")"
   ],
   "outputs": [],
   "execution_count": null
  },
  {
   "metadata": {},
   "cell_type": "code",
   "source": [
    "val df1 = DataFrame.readSqlTable(\n",
    "    dbConfig = connection,\n",
    "    tableName = \"disruptions\",\n",
    "    limit = Int.MAX_VALUE,\n",
    ")\n",
    "\n",
    "df1"
   ],
   "outputs": [],
   "execution_count": null
  },
  {
   "metadata": {},
   "cell_type": "markdown",
   "source": [
    "The table has 50k rows, which for DataFrame is not too large, but if your table has millions of rows, it may be beneficial to only load a given query into the DF. DataFrame runs in memory to be as flexible as possible and to infer the type-safe accessors.\n",
    "\n",
    "Let's try this with weather related disruptions and see in which months most weather related disruptions occur."
   ]
  },
  {
   "metadata": {},
   "cell_type": "code",
   "source": [
    "val weatherDisruptions = DataFrame.readSqlQuery(\n",
    "    dbConfig = connection,\n",
    "    sqlQuery = \"\"\"SELECT * FROM disruptions WHERE cause_group=\"weather\"\"\"\",\n",
    "    limit = Int.MAX_VALUE,\n",
    ").parse().renameToCamelCase()\n",
    "\n",
    "weatherDisruptions"
   ],
   "outputs": [],
   "execution_count": null
  },
  {
   "metadata": {},
   "cell_type": "code",
   "source": [
    "import kotlinx.datetime.Month\n",
    "\n",
    "val month by column<Month>()\n",
    "\n",
    "val weatherDisruptionsCounts = weatherDisruptions\n",
    "    .groupBy { expr { startTime.month } into month }\n",
    "    .count()\n",
    "    .sortBy(month)\n",
    "\n",
    "weatherDisruptionsCounts"
   ],
   "outputs": [],
   "execution_count": null
  },
  {
   "metadata": {},
   "cell_type": "code",
   "source": "weatherDisruptionsCounts.countPlot { x(month); weight(count) }",
   "outputs": [],
   "execution_count": null
  },
  {
   "metadata": {},
   "cell_type": "markdown",
   "source": "But back to the entire table! Let's parse it similarly to in the other notebook, but just a bit more quickly (and unsafely)."
  },
  {
   "metadata": {},
   "cell_type": "code",
   "source": [
    "import kotlin.time.Duration.Companion.minutes\n",
    "\n",
    "/**\n",
    " * A line consists of two stations where firstStation\n",
    " * is always alphabetically first.\n",
    " */\n",
    "data class Line private constructor(\n",
    "    val firstStation: String,\n",
    "    val secondStation: String,\n",
    ") {\n",
    "    companion object {\n",
    "        operator fun invoke(station: String, otherStation: String): Line {\n",
    "            val (a, b) = listOf(station, otherStation).sorted()\n",
    "            return Line(a, b)\n",
    "        }\n",
    "\n",
    "        fun parseOrNull(rdtString: String): Line? {\n",
    "            val stations = rdtString.split(\" - \")\n",
    "            return invoke(\n",
    "                stations.getOrNull(0) ?: return null,\n",
    "                stations.getOrNull(1) ?: return null,\n",
    "            )\n",
    "        }\n",
    "    }\n",
    "\n",
    "    override fun toString(): String = \"$firstStation <-> $secondStation\"\n",
    "}\n",
    "\n",
    "val allDisruptions = df1\n",
    "    .parse() // parse string columns\n",
    "    .renameToCamelCase()\n",
    "    .remove { \"nsLines\" and nameEndsWith(\"Nl\") and \"causeEn\" } // remove unnecessary columns\n",
    "    .update { \"durationMinutes\"<String?>() }.where { it.isNullOrBlank() }.withZero() // imputing blank durations\n",
    "    .add { // adding helper columns\n",
    "        \"duration\" from { \"durationMinutes\"<String>().toInt().minutes }\n",
    "        \"date\" from { \"startTime\"<LocalDateTime>().date }\n",
    "    }\n",
    "    .rename { all() }.into { // renaming\n",
    "        it.name\n",
    "            .removePrefix(\"rdt\")\n",
    "            .replaceFirstChar { it.lowercase() }\n",
    "            .removeSuffix(\"En\")\n",
    "    }\n",
    "    .split(\"lines\", \"linesId\", \"stationNames\", \"stationCodes\").by { // splitting list-like string columns into lists\n",
    "        (it as String?)\n",
    "            .takeUnless { it.isNullOrBlank() }\n",
    "            ?.let { it.split(\",\") }\n",
    "            ?: emptyList()\n",
    "    }.inplace()\n",
    "    .convert { \"linesId\"<List<String>>() }.with { it.map { it.toInt() } } // converting linesId to List<Int> todo remove?\n",
    "    .convert { \"lines\"<List<String>>() }.with { it.mapNotNull { Line.parseOrNull(it) } } // converting lines to List<Line> \n",
    "    .sortBy(\"startTime\") // sort :)\n",
    "\n",
    "allDisruptions"
   ],
   "outputs": [],
   "execution_count": null
  },
  {
   "metadata": {},
   "cell_type": "markdown",
   "source": [
    "Now we've got all disruptions, let's find the ones related to me.\n",
    "I used to take the InterCity from Breda to Eindhoven and back. It stopped in Tilburg too.\n",
    "I'll count a disruption when it happened either in Breda <-> Tilburg or Tilburg <-> Eindhoven.\n"
   ]
  },
  {
   "metadata": {},
   "cell_type": "code",
   "source": [
    "val bredaTilburg = Line(\"Breda\", \"Tilburg\")\n",
    "val tilburgEindhoven = Line(\"Tilburg\", \"Eindhoven\")\n",
    "\n",
    "val relatedToMe = allDisruptions.filter {\n",
    "    bredaTilburg in lines || tilburgEindhoven in lines\n",
    "}\n",
    "\n",
    "relatedToMe"
   ],
   "outputs": [],
   "execution_count": null
  },
  {
   "metadata": {},
   "cell_type": "markdown",
   "source": [
    "We've got 11k results! That's a lot.\n",
    "Let's plot them over time and see what types of disruptions were most common."
   ]
  },
  {
   "metadata": {},
   "cell_type": "code",
   "source": [
    "val monthAndYear by column<LocalDate>()\n",
    "val count by column<Int>()\n",
    "\n",
    "// temp column containing all months from 2011 to 2023 as LocalDate(year, month, 1)\n",
    "val dates = buildList {\n",
    "    for (year in 2011..2023) {\n",
    "        for (month in 1..12) {\n",
    "            add(LocalDate(year = year, monthNumber = month, dayOfMonth = 1))\n",
    "        }\n",
    "    }\n",
    "}.toColumn(monthAndYear)\n",
    "    .toDataFrame()\n",
    "\n",
    "val relatedGrouped = relatedToMe\n",
    "\n",
    "    // group by causeGroup and expression (temp) column monthAndYear to count the accidents\n",
    "    .groupBy {\n",
    "        causeGroup and expr {\n",
    "            LocalDate(year = date.year, month = date.month, dayOfMonth = 1)\n",
    "        }.into(monthAndYear)\n",
    "    }.count(count.name())\n",
    "\n",
    "    // group just by causeGroup and make sure each group has a count value for each date\n",
    "    .groupBy { causeGroup }.updateGroups {\n",
    "        val causeGroupName = causeGroup.first()\n",
    "        rightJoin(dates) // matches monthAndYear\n",
    "            .fillNulls { causeGroup }.with { causeGroupName }\n",
    "            .fillNulls(count).with { 0 }\n",
    "            .sortBy { monthAndYear }\n",
    "    }\n",
    "\n",
    "relatedGrouped"
   ],
   "outputs": [],
   "execution_count": null
  },
  {
   "metadata": {},
   "cell_type": "code",
   "source": [
    "relatedGrouped.plot {\n",
    "    x.axis.breaks(format = \"%B %Y\")\n",
    "    \n",
    "    area {\n",
    "        x(monthAndYear)\n",
    "        y(count)\n",
    "        fillColor(causeGroup)\n",
    "        position = Position.stack()\n",
    "        borderLine.width = 0.5\n",
    "    }\n",
    "\n",
    "    layout.size = 1000 to 700\n",
    "}"
   ],
   "outputs": [],
   "execution_count": null
  },
  {
   "metadata": {},
   "cell_type": "markdown",
   "source": "## So... yes? "
  },
  {
   "metadata": {},
   "cell_type": "markdown",
   "source": "## Now, will you get to complain about Dutch trains this evening too?"
  }
 ],
 "metadata": {
  "kernelspec": {
   "display_name": "Kotlin",
   "language": "kotlin",
   "name": "kotlin"
  },
  "language_info": {
   "name": "kotlin",
   "version": "1.9.23",
   "mimetype": "text/x-kotlin",
   "file_extension": ".kt",
   "pygments_lexer": "kotlin",
   "codemirror_mode": "text/x-kotlin",
   "nbconvert_exporter": ""
  },
  "ktnbPluginMetadata": {
   "projectLibraries": []
  }
 },
 "nbformat": 4,
 "nbformat_minor": 0
}
