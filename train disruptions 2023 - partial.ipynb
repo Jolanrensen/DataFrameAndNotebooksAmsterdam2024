{
 "cells": [
  {
   "metadata": {},
   "cell_type": "markdown",
   "source": [
    "## Analyzing train disruptions in the Netherlands\n",
    "\n",
    "From https://www.rijdendetreinen.nl/en/open-data/disruptions#downloads"
   ]
  },
  {
   "metadata": {},
   "cell_type": "code",
   "source": "",
   "outputs": [],
   "execution_count": null
  },
  {
   "metadata": {},
   "cell_type": "code",
   "source": "",
   "outputs": [],
   "execution_count": null
  },
  {
   "metadata": {},
   "cell_type": "code",
   "source": "disruptions2023.schema()",
   "outputs": [],
   "execution_count": null
  },
  {
   "metadata": {},
   "cell_type": "markdown",
   "source": [
    " Looking at the schema, we can see it mostly parsed the data correctly.\n",
    " `rdt_lines_id: Double?` is a mistake though.\n",
    " \n",
    "From the website: \"These are the IDs of the lines linked to a disruption by Rijden de Treinen, separated by a comma.\"\n",
    "Understandably, `\"24,32\"` is parsed as a `Double` instead of `String`. Let's try to nudge it into the right direction when reading the data\n",
    "by supplying it with a manual type for this column.\n",
    "\n",
    "Let's also rename it to camel case while we're at it."
   ]
  },
  {
   "metadata": {},
   "cell_type": "code",
   "source": "",
   "outputs": [],
   "execution_count": null
  },
  {
   "metadata": {},
   "cell_type": "code",
   "source": "disruptions2023.schema()",
   "outputs": [],
   "execution_count": null
  },
  {
   "metadata": {},
   "cell_type": "markdown",
   "source": [
    "Now the schema looks better! One of the best things about using DataFrame in notebooks\n",
    "is that in between cell calls type-safe accessors are generated for you!"
   ]
  },
  {
   "metadata": {},
   "cell_type": "code",
   "source": "",
   "outputs": [],
   "execution_count": null
  },
  {
   "metadata": {},
   "cell_type": "markdown",
   "source": [
    "We can actually make this hidden process visible by tracking all code that's executed under the hood.\n",
    "\n",
    "Libraries for the Kotlin Jupyter kernel and notebooks can be very powerful as you can see!"
   ]
  },
  {
   "metadata": {},
   "cell_type": "code",
   "source": [
    "%trackExecution\n",
    "//"
   ],
   "outputs": [],
   "execution_count": null
  },
  {
   "metadata": {},
   "cell_type": "code",
   "source": "%trackExecution off",
   "outputs": [],
   "execution_count": null
  },
  {
   "metadata": {},
   "cell_type": "code",
   "source": [
    "val a = dataFrame.a\n",
    "val b = dataFrame.b\n",
    "\n",
    "a"
   ],
   "outputs": [],
   "execution_count": null
  },
  {
   "metadata": {},
   "cell_type": "markdown",
   "source": [
    "Anyway, let's get back to our data!\n",
    "\n",
    "Let's remove the columns we don't need and convert and rename some others."
   ]
  },
  {
   "metadata": {},
   "cell_type": "code",
   "source": [
    "// before\n",
    "disruptions2023"
   ],
   "outputs": [],
   "execution_count": null
  },
  {
   "metadata": {},
   "cell_type": "code",
   "source": [
    "import kotlin.time.Duration.Companion.minutes\n",
    "\n",
    "val df1 = disruptions2023\n",
    "\n",
    "    // we remove nsLines, dutch columns, and causeEn (as statisticalCauseEn is better according to the docs)\n",
    "    \n",
    "\n",
    "    // let's also remove some rows where durationMinutes == null\n",
    "    \n",
    "    \n",
    "    // Parsing minutes into kotlin.time.Duration and creating an extra date column\n",
    "    \n",
    "\n",
    "    // renaming columns to remove \"rdt\" and \"En\" from the beginning and end\n",
    "    \n",
    "\n",
    "df1"
   ],
   "outputs": [],
   "execution_count": null
  },
  {
   "metadata": {},
   "cell_type": "markdown",
   "source": [
    "Almost perfect! \n",
    "\n",
    "However, we still have some list-like columns.\n",
    "We can split those into lists to make them more manageable."
   ]
  },
  {
   "metadata": {},
   "cell_type": "code",
   "source": [
    "val df2 = df1\n",
    "    // splitting lines, linesId, stationNames, stationCodes to lists\n",
    "    \n",
    "    \n",
    "    // convert linesId to List<Int>\n",
    "    \n",
    "\n",
    "df2"
   ],
   "outputs": [],
   "execution_count": null
  },
  {
   "metadata": {},
   "cell_type": "code",
   "source": "df2.schema()",
   "outputs": [],
   "execution_count": null
  },
  {
   "metadata": {},
   "cell_type": "markdown",
   "source": [
    "Done! Now let's get to work! We can find all sorts of interesting stuff:\n",
    "\n",
    "  - What's the longest delay duration in 2023?\n",
    "  - What track had the most delays in 2023?\n",
    "  - What causes delays?\n",
    "  - Do I have the right to complain about Dutch trains in demos?\n",
    "  \n",
    "\n",
    "## Cause groups\n",
    "\n",
    "I'm actually quite interested in these causes and what makes up a \"cause group\".\n",
    "Let's find all groups and see what causes are inside :)\n",
    "\n",
    "Note the nested DataFrames :)"
   ]
  },
  {
   "metadata": {},
   "cell_type": "code",
   "source": [
    "df2\n",
    "    // group by causeGroup and aggregate by counting the values in statisticalCause\n",
    "    \n",
    "    // sort descending by the n.o. rows in the new \"statisticalCauses\" frame column\n",
    "    "
   ],
   "outputs": [],
   "execution_count": null
  },
  {
   "metadata": {},
   "cell_type": "markdown",
   "source": "## Which line had the most delays?"
  },
  {
   "metadata": {},
   "cell_type": "code",
   "source": [
    "val byLines = df2\n",
    "    .explode { lines }\n",
    "    .groupBy { lines }\n",
    "\n",
    "byLines.count().sortByDesc(\"count\")"
   ],
   "outputs": [],
   "execution_count": null
  },
  {
   "metadata": {},
   "cell_type": "markdown",
   "source": [
    "Well, what a surprise that was!\n",
    "\n",
    "Now, this was per line, what about per station? The data also provides the affected stations in each line:\n"
   ]
  },
  {
   "metadata": {},
   "cell_type": "code",
   "source": [
    "val byStation = df2\n",
    "    .explode { stationNames }\n",
    "    .groupBy { stationNames }\n",
    "\n",
    "byStation.count().sortByDesc(\"count\")"
   ],
   "outputs": [],
   "execution_count": null
  },
  {
   "metadata": {},
   "cell_type": "markdown",
   "source": "Let's get some more information about the duration of the delay, because just a count doesn't tell the whole story.\n"
  },
  {
   "metadata": {},
   "cell_type": "code",
   "outputs": [],
   "execution_count": null,
   "source": [
    "byStation.aggregate {\n",
    "    duration.describe().first() into \"duration\"\n",
    "}"
   ]
  },
  {
   "metadata": {},
   "cell_type": "markdown",
   "source": "Interesting! We have another 'winner'."
  },
  {
   "metadata": {},
   "cell_type": "markdown",
   "source": [
    "I don't know about you, but this requires some visualization, doesn't it?\n",
    "\n",
    "Let's use Kandy, as it has excellent integration with notebooks and DataFrame.\n",
    "\n",
    "Let's take a look at the examples: https://kotlin.github.io/kandy/examples.html\n",
    "\n",
    "Looks like a boxplot can best show the results of a top-10 of \"worst\" stations."
   ]
  },
  {
   "metadata": {},
   "cell_type": "code",
   "source": "%use kandy",
   "outputs": [],
   "execution_count": null
  },
  {
   "metadata": {},
   "cell_type": "code",
   "source": [
    "val top10 = byStation.sortByGroupDesc {\n",
    "    count()\n",
    "//    durationMinutes.mean()\n",
    "//    count() * durationMinutes.median()\n",
    "//    count() * durationMinutes.mean()\n",
    "}.filter { it.index() < 10 }\n",
    "\n",
    "top10"
   ],
   "outputs": [],
   "execution_count": null
  },
  {
   "metadata": {},
   "cell_type": "code",
   "source": [
    "top10.boxplot {\n",
    "    x(stationNames named \"name\")\n",
    "    y(durationMinutes)\n",
    "}.configure {\n",
    "//    y { scale = continuous(transform = Transformation.LOG10) }\n",
    "\n",
    "    layout {\n",
    "        size = 1000 to 500\n",
    "    }\n",
    "}"
   ],
   "outputs": [],
   "execution_count": null
  },
  {
   "metadata": {},
   "cell_type": "markdown",
   "source": "## Do I have the right to complain about Dutch trains in a demo?"
  }
 ],
 "metadata": {
  "kernelspec": {
   "display_name": "Kotlin",
   "language": "kotlin",
   "name": "kotlin"
  },
  "language_info": {
   "name": "kotlin",
   "version": "1.9.23",
   "mimetype": "text/x-kotlin",
   "file_extension": ".kt",
   "pygments_lexer": "kotlin",
   "codemirror_mode": "text/x-kotlin",
   "nbconvert_exporter": ""
  },
  "ktnbPluginMetadata": {
   "projectLibraries": []
  }
 },
 "nbformat": 4,
 "nbformat_minor": 0
}
