{
 "cells": [
  {
   "metadata": {},
   "cell_type": "markdown",
   "source": [
    "## Train Disruptions in the Netherlands\n",
    "\n",
    "<img alt=\"ns-delay.jpg\" src=\"ns-delay.jpg\" width=\"1000\"/>\n",
    "\n",
    "### Exploring data from Rijden de Treinen using [Kotlin for Data Analysis](https://kotlinlang.org/docs/data-analysis-overview.html)\n",
    "\n",
    "Data from https://www.rijdendetreinen.nl/en/open-data/"
   ]
  },
  {
   "metadata": {},
   "cell_type": "markdown",
   "source": [
    "Let's find out together:\n",
    "- What causes delays?\n",
    "- What's the longest delay in 2023 and where did it occur?\n",
    "- Which track or station had the most delays in 2023?\n",
    "- Do I get to complain about Dutch trains in live demos? (I came by car)\n",
    "\n",
    "[disruptions 2023 CSV](data/disruptions/disruptions-2023.csv)"
   ]
  },
  {
   "metadata": {},
   "cell_type": "code",
   "source": "%use dataframe",
   "outputs": [],
   "execution_count": null
  },
  {
   "metadata": {},
   "cell_type": "code",
   "source": "",
   "outputs": [],
   "execution_count": null
  },
  {
   "metadata": {},
   "cell_type": "code",
   "source": "disruptions2023.schema()",
   "outputs": [],
   "execution_count": null
  },
  {
   "metadata": {},
   "cell_type": "markdown",
   "source": [
    " Looking at the schema, we can see it mostly parsed the data correctly.\n",
    " `rdt_lines_id: Double?` is a mistake though.\n",
    " \n",
    "From the website: \"These are the IDs of the lines linked to a disruption by Rijden de Treinen, separated by a comma.\"\n",
    "Understandably, `\"24,32\"` is parsed as a `Double` instead of `String`. Let's try to nudge it into the right direction when reading the data\n",
    "by supplying it with a manual type for this column.\n",
    "\n",
    "Let's also rename it to camel case while we're at it."
   ]
  },
  {
   "metadata": {},
   "cell_type": "code",
   "source": "",
   "outputs": [],
   "execution_count": null
  },
  {
   "metadata": {},
   "cell_type": "code",
   "source": "disruptions2023.schema()",
   "outputs": [],
   "execution_count": null
  },
  {
   "metadata": {},
   "cell_type": "markdown",
   "source": [
    "Now the schema looks better! One of the best things about using DataFrame in notebooks\n",
    "is that in between cell calls type-safe accessors are generated for you!"
   ]
  },
  {
   "metadata": {},
   "cell_type": "code",
   "source": "disruptions2023.rdtLinesId",
   "outputs": [],
   "execution_count": null
  },
  {
   "metadata": {},
   "cell_type": "markdown",
   "source": [
    "We can actually make this hidden process visible by tracking all code that's executed under the hood.\n",
    "\n",
    "Libraries for the Kotlin Jupyter kernel and notebooks can be very powerful as you can see!"
   ]
  },
  {
   "metadata": {},
   "cell_type": "code",
   "source": "%trackExecution\n",
   "outputs": [],
   "execution_count": null
  },
  {
   "metadata": {},
   "cell_type": "code",
   "source": "%trackExecution off",
   "outputs": [],
   "execution_count": null
  },
  {
   "metadata": {},
   "cell_type": "code",
   "source": [
    "val a = dataFrame.a\n",
    "val b = dataFrame.b\n",
    "\n",
    "a"
   ],
   "outputs": [],
   "execution_count": null
  },
  {
   "metadata": {},
   "cell_type": "markdown",
   "source": [
    "Anyway, let's get back to our data!\n",
    "\n",
    "Let's make our data easier to work with:\n",
    "- We already renamed to camelCase\n",
    "- Remove Dutch columns in favor of English ones\n",
    "- Remove NS and `cause` columns (in favor of rdt columns and statisticalCause respectively)\n",
    "- Drop rows where durationMinutes is `null`\n",
    "- Add helper columns for just the `date: LocalDate` and `duration: kotlin.time.Duration` for easier viewing and plotting\n",
    "- Parse comma-split columns as lists\n",
    "\n",
    "For an overview, check out [DataFrame Operations](https://kotlin.github.io/dataframe/operations.html)"
   ]
  },
  {
   "metadata": {},
   "cell_type": "code",
   "source": [
    "// before\n",
    "disruptions2023"
   ],
   "outputs": [],
   "execution_count": null
  },
  {
   "metadata": {},
   "cell_type": "code",
   "source": [
    "import kotlin.time.Duration.Companion.minutes\n",
    "\n",
    "val df1 = disruptions2023\n",
    "\n",
    "    // we remove nsLines, dutch columns, and causeEn (as statisticalCauseEn is better according to the docs)\n",
    "    \n",
    "\n",
    "    // let's also remove some rows where durationMinutes == null\n",
    "    \n",
    "    \n",
    "    // Parsing minutes into kotlin.time.Duration and creating an extra date column\n",
    "    \n",
    "\n",
    "    // renaming columns to remove \"rdt\" and \"En\" from the beginning and end\n",
    "    \n",
    "\n",
    "df1"
   ],
   "outputs": [],
   "execution_count": null
  },
  {
   "metadata": {},
   "cell_type": "markdown",
   "source": "Almost perfect! However, we still have some list-like columns. We can split those into lists to make them more manageable."
  },
  {
   "metadata": {},
   "cell_type": "code",
   "source": [
    "val df2 = df1\n",
    "    // splitting lines, linesId, stationNames, stationCodes by \",\"\n",
    "    \n",
    "    \n",
    "    // converting linesId from List<String> to List<Int>\n",
    "    .convert { linesId.cast<List<String>>() }.with { it.map { it.toInt() } }\n",
    "\n",
    "df2"
   ],
   "outputs": [],
   "execution_count": null
  },
  {
   "metadata": {},
   "cell_type": "code",
   "source": "df2.schema()",
   "outputs": [],
   "execution_count": null
  },
  {
   "metadata": {},
   "cell_type": "markdown",
   "source": [
    "Done! Now let's get to work!\n",
    "\n",
    "Remember, we wanted to find:\n",
    "\n",
    "- What's the longest delay in 2023 and where did it occur?\n",
    "- What causes delays?\n",
    "- Which track or station had the most delays in 2023?\n",
    "- Do I get to complain about Dutch trains in live demos? (I came by car)"
   ]
  },
  {
   "metadata": {},
   "cell_type": "markdown",
   "source": [
    "\n",
    "## Longest delay in 2023?"
   ]
  },
  {
   "metadata": {},
   "cell_type": "code",
   "source": "df2",
   "outputs": [],
   "execution_count": null
  },
  {
   "metadata": {},
   "cell_type": "markdown",
   "source": [
    "\n",
    "## What causes delays?\n",
    "\n",
    "I'm actually quite interested in these causes and what makes up a \"cause group\".\n",
    "Let's find all groups and see what causes are inside :)\n",
    "\n",
    "Note the nested DataFrames :)"
   ]
  },
  {
   "metadata": {},
   "cell_type": "code",
   "source": [
    "df2\n",
    "    // group by causeGroup and get `valueCounts()` of statisticalCause into \"causes\"\n",
    "    \n",
    "    // sort descending by the number of rows in causes \n",
    "    "
   ],
   "outputs": [],
   "execution_count": null
  },
  {
   "metadata": {},
   "cell_type": "markdown",
   "source": [
    "## Which line had the most delays?\n",
    "\n",
    "To find the line with the most delays, we first need to explode the `lines` column\n",
    "to get a separate row for each line, then group by the `lines` column and count how many rows \n",
    "we get per individual line. Finally, sort descending by count."
   ]
  },
  {
   "metadata": {},
   "cell_type": "code",
   "source": [
    "val byLines = df2\n",
    "    // explode lines\n",
    "\n",
    "    // groupBy lines\n",
    "\n",
    "\n",
    "byLines.count()"
   ],
   "outputs": [],
   "execution_count": null
  },
  {
   "metadata": {},
   "cell_type": "markdown",
   "source": [
    "Well, what a surprise that was!\n",
    "\n",
    "Now, this was per line, what about per station? \n",
    "The data also provides the affected stations in each line using the `stationNames` column.\n",
    "\n",
    "Let's do the same as before:"
   ]
  },
  {
   "metadata": {},
   "cell_type": "code",
   "source": [
    "val byStation = df2\n",
    "    .explode { stationNames }\n",
    "    .groupBy { stationNames }\n",
    "\n",
    "byStation.count().sortByDesc(\"count\")"
   ],
   "outputs": [],
   "execution_count": null
  },
  {
   "metadata": {},
   "cell_type": "markdown",
   "source": "Interesting! We have another 'winner'."
  },
  {
   "metadata": {},
   "cell_type": "markdown",
   "source": [
    "Let's get some more information about the duration of the delay, because just a count doesn't tell the whole story.\n",
    "We can `describe()` the `duration` column to get statistical details about it."
   ]
  },
  {
   "metadata": {},
   "cell_type": "code",
   "source": [
    "byStation.aggregate {\n",
    "    duration.describe().first() into \"duration\"\n",
    "}"
   ],
   "outputs": [],
   "execution_count": null
  },
  {
   "metadata": {},
   "cell_type": "markdown",
   "source": [
    "I don't know about you, but this requires some visualization, doesn't it?\n",
    "\n",
    "Let's use Kandy, as it has excellent integration with notebooks and DataFrame."
   ]
  },
  {
   "metadata": {},
   "cell_type": "code",
   "source": "%use kandy",
   "outputs": [],
   "execution_count": null
  },
  {
   "metadata": {},
   "cell_type": "markdown",
   "source": [
    "Let's take a look at the examples: https://kotlin.github.io/kandy/examples.html\n",
    "\n",
    "Looks like a boxplot can best show the results of a top-10 \"worst\" stations."
   ]
  },
  {
   "metadata": {},
   "cell_type": "code",
   "source": [
    "val top10 =\n",
    "    byStation.sortByGroupDesc {\n",
    "        count()\n",
    "//    durationMinutes.mean()\n",
    "//    count() * durationMinutes.median()\n",
    "//    count() * durationMinutes.mean()\n",
    "    }\n",
    "        .filter { it.index() < 10 }\n",
    "        .concat()\n",
    "\n",
    "top10"
   ],
   "outputs": [],
   "execution_count": null
  },
  {
   "metadata": {},
   "cell_type": "code",
   "source": [
    "top10.plot {\n",
    "    boxplot(x = stationNames, y = durationMinutes) {\n",
    "        boxes.fillColor(stationNames.distinct()) {\n",
    "            legend.type = LegendType.None\n",
    "        }\n",
    "        y {\n",
    "            scale = continuous(transform = Transformation.LOG10)\n",
    "        }\n",
    "    }\n",
    "\n",
    "    layout.size = 1000 to 500\n",
    "}"
   ],
   "outputs": [],
   "execution_count": null
  },
  {
   "metadata": {},
   "cell_type": "markdown",
   "source": "## Do I get to complain about Dutch trains in a demo?"
  }
 ],
 "metadata": {
  "kernelspec": {
   "display_name": "Kotlin",
   "language": "kotlin",
   "name": "kotlin"
  },
  "language_info": {
   "name": "kotlin",
   "version": "1.9.23",
   "mimetype": "text/x-kotlin",
   "file_extension": ".kt",
   "pygments_lexer": "kotlin",
   "codemirror_mode": "text/x-kotlin",
   "nbconvert_exporter": ""
  },
  "ktnbPluginMetadata": {
   "projectLibraries": []
  }
 },
 "nbformat": 4,
 "nbformat_minor": 0
}
